{
 "cells": [
  {
   "cell_type": "markdown",
   "id": "3f351432",
   "metadata": {
    "slideshow": {
     "slide_type": "slide"
    }
   },
   "source": [
    "# Pointers"
   ]
  },
  {
   "cell_type": "code",
   "execution_count": 1,
   "id": "04c14efa",
   "metadata": {
    "slideshow": {
     "slide_type": "slide"
    }
   },
   "outputs": [],
   "source": [
    "#include <iostream>\n",
    "using std::cout, std::endl;"
   ]
  },
  {
   "cell_type": "code",
   "execution_count": 2,
   "id": "9540fdd1",
   "metadata": {
    "slideshow": {
     "slide_type": "slide"
    }
   },
   "outputs": [],
   "source": [
    "class HasInt {\n",
    "    int the_int;\n",
    "    public:\n",
    "    HasInt(int value) : the_int(value) {}\n",
    "    void set_int(int new_value) { the_int = new_value; }\n",
    "    int get_int() const { return the_int; }\n",
    "}"
   ]
  },
  {
   "cell_type": "code",
   "execution_count": 3,
   "id": "874a0ff6",
   "metadata": {
    "slideshow": {
     "slide_type": "slide"
    }
   },
   "outputs": [
    {
     "data": {
      "text/plain": [
       "8"
      ]
     },
     "execution_count": 3,
     "metadata": {},
     "output_type": "execute_result"
    }
   ],
   "source": [
    "HasInt first(8);\n",
    "first.get_int()"
   ]
  },
  {
   "cell_type": "code",
   "execution_count": 4,
   "id": "de7feeb3",
   "metadata": {
    "slideshow": {
     "slide_type": "fragment"
    }
   },
   "outputs": [
    {
     "data": {
      "text/plain": [
       "8"
      ]
     },
     "execution_count": 4,
     "metadata": {},
     "output_type": "execute_result"
    }
   ],
   "source": [
    "HasInt second = first;\n",
    "second.get_int()"
   ]
  },
  {
   "cell_type": "code",
   "execution_count": 5,
   "id": "4a85b604",
   "metadata": {
    "slideshow": {
     "slide_type": "fragment"
    }
   },
   "outputs": [
    {
     "data": {
      "text/plain": [
       "3"
      ]
     },
     "execution_count": 5,
     "metadata": {},
     "output_type": "execute_result"
    }
   ],
   "source": [
    "second.set_int(3);\n",
    "second.get_int()"
   ]
  },
  {
   "cell_type": "code",
   "execution_count": 6,
   "id": "54843fb8",
   "metadata": {
    "slideshow": {
     "slide_type": "fragment"
    }
   },
   "outputs": [
    {
     "data": {
      "text/plain": [
       "8"
      ]
     },
     "execution_count": 6,
     "metadata": {},
     "output_type": "execute_result"
    }
   ],
   "source": [
    "first.get_int()"
   ]
  },
  {
   "cell_type": "code",
   "execution_count": 45,
   "id": "7678b40e",
   "metadata": {
    "slideshow": {
     "slide_type": "slide"
    }
   },
   "outputs": [],
   "source": [
    "template <class T>\n",
    "void where(T const& thing) {\n",
    "    printf(\"%p\\n\", &thing);\n",
    "}"
   ]
  },
  {
   "cell_type": "code",
   "execution_count": 46,
   "id": "a1bc2b17",
   "metadata": {},
   "outputs": [
    {
     "name": "stdout",
     "output_type": "stream",
     "text": [
      "0x400917b02c\n"
     ]
    }
   ],
   "source": [
    "where(first)"
   ]
  },
  {
   "cell_type": "code",
   "execution_count": 47,
   "id": "b25a1a0a",
   "metadata": {},
   "outputs": [
    {
     "name": "stdout",
     "output_type": "stream",
     "text": [
      "0x400917b030\n"
     ]
    }
   ],
   "source": [
    "where(second)"
   ]
  },
  {
   "cell_type": "markdown",
   "id": "35622d63",
   "metadata": {
    "slideshow": {
     "slide_type": "slide"
    }
   },
   "source": [
    "## C++ Memory Model\n",
    "\n",
    "- When you declare a variable, you are declaring a chunk of RAM big enough for the variable type\n",
    "- When you assign a variable a new value, you change the bytes at that variable's location in RAM\n",
    "\n",
    "```c++\n",
    "HasInt second = first;\n",
    "```\n",
    "- Declares a new chunk of RAM big enough for an `HasInt`\n",
    "- **Copies** the bytes from the RAM for `first` to the RAM for `second`\n",
    "\n",
    "Python and Java are different. The same syntax as above:\n",
    "\n",
    "```python\n",
    "second = first\n",
    "```\n",
    "or \n",
    "```java\n",
    "HasInt second = first;\n",
    "``` \n",
    "make `first` and `second` refer to the same object; changes on that one object are reflected through either variable name."
   ]
  },
  {
   "cell_type": "markdown",
   "id": "fdb16862",
   "metadata": {
    "slideshow": {
     "slide_type": "fragment"
    }
   },
   "source": [
    "In C++, you achieve similar behavior to Python or Java using **pointers**."
   ]
  },
  {
   "cell_type": "markdown",
   "id": "8f705d88",
   "metadata": {
    "slideshow": {
     "slide_type": "slide"
    }
   },
   "source": [
    "## Pointers"
   ]
  },
  {
   "cell_type": "code",
   "execution_count": 10,
   "id": "0de3f462",
   "metadata": {
    "slideshow": {
     "slide_type": "slide"
    }
   },
   "outputs": [
    {
     "data": {
      "text/plain": [
       "25"
      ]
     },
     "execution_count": 10,
     "metadata": {},
     "output_type": "execute_result"
    }
   ],
   "source": [
    "HasInt* one = new HasInt(25);\n",
    "one->get_int()"
   ]
  },
  {
   "cell_type": "markdown",
   "id": "808182ca",
   "metadata": {
    "slideshow": {
     "slide_type": "notes"
    }
   },
   "source": [
    "- `HasInt*` is the type for \"a pointer to a HasInt\"\n",
    "- `new` creates space for the `HasInt` on the heap, initializes the object, and returns a **pointer** to that space in memory\n",
    "- `->` is how you access information through a pointer to an object"
   ]
  },
  {
   "cell_type": "code",
   "execution_count": 11,
   "id": "4bcb74df",
   "metadata": {
    "slideshow": {
     "slide_type": "fragment"
    }
   },
   "outputs": [
    {
     "data": {
      "text/plain": [
       "25"
      ]
     },
     "execution_count": 11,
     "metadata": {},
     "output_type": "execute_result"
    }
   ],
   "source": [
    "HasInt* two = one;\n",
    "two->get_int()"
   ]
  },
  {
   "cell_type": "code",
   "execution_count": 12,
   "id": "c5b869c2",
   "metadata": {
    "slideshow": {
     "slide_type": "fragment"
    }
   },
   "outputs": [
    {
     "data": {
      "text/plain": [
       "42"
      ]
     },
     "execution_count": 12,
     "metadata": {},
     "output_type": "execute_result"
    }
   ],
   "source": [
    "two->set_int(42);\n",
    "two->get_int()"
   ]
  },
  {
   "cell_type": "code",
   "execution_count": 13,
   "id": "f9872bfb",
   "metadata": {
    "slideshow": {
     "slide_type": "fragment"
    }
   },
   "outputs": [
    {
     "data": {
      "text/plain": [
       "42"
      ]
     },
     "execution_count": 13,
     "metadata": {},
     "output_type": "execute_result"
    }
   ],
   "source": [
    "one->get_int()"
   ]
  },
  {
   "cell_type": "code",
   "execution_count": 14,
   "id": "6e3ac886",
   "metadata": {
    "slideshow": {
     "slide_type": "slide"
    }
   },
   "outputs": [
    {
     "data": {
      "text/plain": [
       "42"
      ]
     },
     "execution_count": 14,
     "metadata": {},
     "output_type": "execute_result"
    }
   ],
   "source": [
    "(*one).get_int()"
   ]
  },
  {
   "cell_type": "markdown",
   "id": "0b71aa28",
   "metadata": {
    "slideshow": {
     "slide_type": "notes"
    }
   },
   "source": [
    "- you can also use the unary `*` operator to get the object a pointer points to"
   ]
  },
  {
   "cell_type": "markdown",
   "id": "7f63ddf2",
   "metadata": {
    "slideshow": {
     "slide_type": "slide"
    }
   },
   "source": [
    "So, if `one` and `two` point to the same object (i.e. the same chunk of RAM), then..."
   ]
  },
  {
   "cell_type": "code",
   "execution_count": 15,
   "id": "64229e0b",
   "metadata": {},
   "outputs": [
    {
     "name": "stdout",
     "output_type": "stream",
     "text": [
      "0x4027e6e810\n"
     ]
    }
   ],
   "source": [
    "where(*one)"
   ]
  },
  {
   "cell_type": "code",
   "execution_count": 16,
   "id": "c2f6b782",
   "metadata": {},
   "outputs": [
    {
     "name": "stdout",
     "output_type": "stream",
     "text": [
      "0x4027e6e810\n"
     ]
    }
   ],
   "source": [
    "where(*two)"
   ]
  },
  {
   "cell_type": "code",
   "execution_count": 48,
   "id": "444ae8f9",
   "metadata": {
    "slideshow": {
     "slide_type": "slide"
    }
   },
   "outputs": [],
   "source": [
    "/*\n",
    "  This method prints the bytes in RAM that a given variable has\n",
    "*/\n",
    "template <class T>\n",
    "void bytes(T const& thing) {\n",
    "    unsigned char* addr = (unsigned char*)&thing;\n",
    "    printf(\"0x\");\n",
    "    for (int i = sizeof(T) - 1; i >= 0; i--) {\n",
    "        printf(\"%02x\", addr[i]);\n",
    "    }\n",
    "    printf(\"\\n\");\n",
    "}"
   ]
  },
  {
   "cell_type": "code",
   "execution_count": 49,
   "id": "5c29ba8f",
   "metadata": {},
   "outputs": [
    {
     "name": "stdout",
     "output_type": "stream",
     "text": [
      "0x00000008\n"
     ]
    }
   ],
   "source": [
    "bytes(first)"
   ]
  },
  {
   "cell_type": "code",
   "execution_count": 50,
   "id": "c8d49ab7",
   "metadata": {},
   "outputs": [
    {
     "name": "stdout",
     "output_type": "stream",
     "text": [
      "0x00000003\n"
     ]
    }
   ],
   "source": [
    "bytes(second)"
   ]
  },
  {
   "cell_type": "code",
   "execution_count": 51,
   "id": "91993c79",
   "metadata": {
    "slideshow": {
     "slide_type": "slide"
    }
   },
   "outputs": [
    {
     "name": "stdout",
     "output_type": "stream",
     "text": [
      "0x0000002a\n"
     ]
    }
   ],
   "source": [
    "bytes(*one)"
   ]
  },
  {
   "cell_type": "code",
   "execution_count": 52,
   "id": "1dcb5c67",
   "metadata": {},
   "outputs": [
    {
     "name": "stdout",
     "output_type": "stream",
     "text": [
      "0x0000002a\n"
     ]
    }
   ],
   "source": [
    "bytes(*two)"
   ]
  },
  {
   "cell_type": "markdown",
   "id": "739a86ba",
   "metadata": {
    "slideshow": {
     "slide_type": "fragment"
    }
   },
   "source": [
    "0x2A (hexidecimal) is the same as $2 * 16 + 10 = 42$"
   ]
  },
  {
   "cell_type": "code",
   "execution_count": 53,
   "id": "c98243fc",
   "metadata": {
    "slideshow": {
     "slide_type": "slide"
    }
   },
   "outputs": [
    {
     "name": "stdout",
     "output_type": "stream",
     "text": [
      "0x0000004027e6e810\n"
     ]
    }
   ],
   "source": [
    "bytes(one)"
   ]
  },
  {
   "cell_type": "code",
   "execution_count": 54,
   "id": "0775a3d8",
   "metadata": {},
   "outputs": [
    {
     "name": "stdout",
     "output_type": "stream",
     "text": [
      "0x4027e6e810\n"
     ]
    }
   ],
   "source": [
    "where(*one)"
   ]
  },
  {
   "cell_type": "markdown",
   "id": "627209cb",
   "metadata": {
    "slideshow": {
     "slide_type": "notes"
    }
   },
   "source": [
    "- Draw this out!\n",
    "- `one` exists somewhere. It's a `HasInt*`. It has information, encoded in bytes.\n",
    "- `one` is a pointer to a `HasInt`. That `HasInt` exists somewhere and has data. That somewhere has an address.\n",
    "- They bytes that `one` stores are the address to the `HasInt`!"
   ]
  },
  {
   "cell_type": "code",
   "execution_count": 55,
   "id": "411ef97f",
   "metadata": {},
   "outputs": [
    {
     "name": "stdout",
     "output_type": "stream",
     "text": [
      "0x0000004027e6e810\n"
     ]
    }
   ],
   "source": [
    "bytes(two)"
   ]
  },
  {
   "cell_type": "code",
   "execution_count": 56,
   "id": "9873d5b7",
   "metadata": {},
   "outputs": [
    {
     "name": "stdout",
     "output_type": "stream",
     "text": [
      "0x4027e6e810\n"
     ]
    }
   ],
   "source": [
    "where(*two)"
   ]
  },
  {
   "cell_type": "markdown",
   "id": "eef6e76c",
   "metadata": {
    "slideshow": {
     "slide_type": "slide"
    }
   },
   "source": [
    "All data are stored as bytes in RAM.\n",
    "\n",
    "Each byte has an address (or how would you find it?)\n",
    "\n",
    "That address is data, and all data are stored as bytes, so an address is also bytes.\n",
    "\n",
    "Variables are names for places in RAM. There is an address for every variable. \n",
    "\n",
    "Because addresses are data, you can store them in a variable.\n",
    "\n",
    "A variable that stores an address is called a **pointer**!"
   ]
  },
  {
   "cell_type": "code",
   "execution_count": 58,
   "id": "fa918d79",
   "metadata": {
    "slideshow": {
     "slide_type": "slide"
    }
   },
   "outputs": [
    {
     "name": "stdout",
     "output_type": "stream",
     "text": [
      "0x400917b048\n",
      "0x0000004029c88ed0\n",
      "0x4029c88ed0\n",
      "0x00000005\n"
     ]
    }
   ],
   "source": [
    "int* number = new int(5);\n",
    "where(number);\n",
    "bytes(number);\n",
    "where(*number);\n",
    "bytes(*number);"
   ]
  },
  {
   "cell_type": "code",
   "execution_count": 61,
   "id": "e30ba812",
   "metadata": {
    "slideshow": {
     "slide_type": "slide"
    }
   },
   "outputs": [
    {
     "name": "stdout",
     "output_type": "stream",
     "text": [
      "0x000000402983ea00\n",
      "0x000000402841e7c0\n",
      "0x000000402983ea00\n"
     ]
    }
   ],
   "source": [
    "HasInt* a = new HasInt(2);\n",
    "HasInt* b = new HasInt(1);\n",
    "HasInt* c = a;\n",
    "bytes(a);\n",
    "bytes(b);\n",
    "bytes(c);"
   ]
  },
  {
   "cell_type": "code",
   "execution_count": 62,
   "id": "4b63729e",
   "metadata": {
    "slideshow": {
     "slide_type": "fragment"
    }
   },
   "outputs": [
    {
     "name": "stdout",
     "output_type": "stream",
     "text": [
      "0x000000402983ea00\n",
      "0x000000402841e7c0\n",
      "0x000000402841e7c0\n"
     ]
    }
   ],
   "source": [
    "c = b;\n",
    "bytes(a);\n",
    "bytes(b);\n",
    "bytes(c);"
   ]
  },
  {
   "cell_type": "markdown",
   "id": "0f0653f0",
   "metadata": {
    "slideshow": {
     "slide_type": "notes"
    }
   },
   "source": [
    "- remember, what does `=` do in c++?\n",
    "  - it **copies** the bytes from one variable to another\n",
    "- so when you assign one pointer to another, you copy the address (as bytes) of other to the first"
   ]
  },
  {
   "cell_type": "markdown",
   "id": "e4f1f0e0",
   "metadata": {
    "slideshow": {
     "slide_type": "slide"
    }
   },
   "source": [
    "In C++, there are bytes stored in RAM. That's it.\n",
    "\n",
    "Every variable stores its own bytes.\n",
    "\n",
    "If you want to have two variables refer to the same bytes, you need pointers, i.e.:\n",
    "\n",
    "**Have two different variables that both store the address to the same object.**\n",
    "\n",
    "Variables that store addresses are called **pointers**"
   ]
  },
  {
   "cell_type": "markdown",
   "id": "2afc8f97",
   "metadata": {
    "slideshow": {
     "slide_type": "slide"
    }
   },
   "source": [
    "## `nullptr`"
   ]
  },
  {
   "cell_type": "code",
   "execution_count": 63,
   "id": "6cc9638a",
   "metadata": {},
   "outputs": [
    {
     "name": "stdout",
     "output_type": "stream",
     "text": [
      "0x0000000000000000\n"
     ]
    }
   ],
   "source": [
    "bytes(nullptr)"
   ]
  },
  {
   "cell_type": "markdown",
   "id": "b61a414e",
   "metadata": {
    "slideshow": {
     "slide_type": "notes"
    }
   },
   "source": [
    "- `nullptr` vs `None` or `null`\n",
    "- "
   ]
  },
  {
   "cell_type": "markdown",
   "id": "aa6b4187",
   "metadata": {
    "slideshow": {
     "slide_type": "slide"
    }
   },
   "source": [
    "## Linked Lists (part 1)"
   ]
  },
  {
   "cell_type": "markdown",
   "id": "8846c52f",
   "metadata": {
    "slideshow": {
     "slide_type": "notes"
    }
   },
   "source": [
    "- Singly-linked lists"
   ]
  }
 ],
 "metadata": {
  "celltoolbar": "Slideshow",
  "kernelspec": {
   "display_name": "C++17",
   "language": "C++17",
   "name": "xcpp17"
  },
  "language_info": {
   "codemirror_mode": "text/x-c++src",
   "file_extension": ".cpp",
   "mimetype": "text/x-c++src",
   "name": "c++",
   "version": "17"
  },
  "toc": {
   "base_numbering": 1,
   "nav_menu": {},
   "number_sections": false,
   "sideBar": true,
   "skip_h1_title": true,
   "title_cell": "Table of Contents",
   "title_sidebar": "Contents",
   "toc_cell": false,
   "toc_position": {
    "height": "calc(100% - 180px)",
    "left": "10px",
    "top": "150px",
    "width": "384px"
   },
   "toc_section_display": true,
   "toc_window_display": true
  }
 },
 "nbformat": 4,
 "nbformat_minor": 5
}
