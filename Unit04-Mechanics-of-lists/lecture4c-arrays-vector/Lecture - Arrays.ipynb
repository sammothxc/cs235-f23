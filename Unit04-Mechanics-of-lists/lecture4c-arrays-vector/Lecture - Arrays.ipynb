{
 "cells": [
  {
   "cell_type": "markdown",
   "id": "a09c8c5e",
   "metadata": {
    "slideshow": {
     "slide_type": "slide"
    }
   },
   "source": [
    "# Arrays"
   ]
  },
  {
   "cell_type": "code",
   "execution_count": 1,
   "id": "7b6ee2dd",
   "metadata": {
    "slideshow": {
     "slide_type": "slide"
    }
   },
   "outputs": [],
   "source": [
    "#include <iostream>\n",
    "using std::cout, std::endl;"
   ]
  },
  {
   "cell_type": "code",
   "execution_count": 2,
   "id": "eddbd14e",
   "metadata": {
    "slideshow": {
     "slide_type": "slide"
    }
   },
   "outputs": [],
   "source": [
    "template <class T>\n",
    "void where(T const& thing) {\n",
    "    printf(\"%p\\n\", &thing);\n",
    "}"
   ]
  },
  {
   "cell_type": "code",
   "execution_count": 3,
   "id": "c5bb189e",
   "metadata": {
    "slideshow": {
     "slide_type": "slide"
    }
   },
   "outputs": [],
   "source": [
    "/*\n",
    "  This method prints the bytes in RAM that a given variable has\n",
    "*/\n",
    "template <class T>\n",
    "void bytes(T const& thing) {\n",
    "    unsigned char* addr = (unsigned char*)&thing;\n",
    "    printf(\"0x\");\n",
    "    for (int i = sizeof(T) - 1; i >= 0; i--) {\n",
    "        printf(\"%02x\", addr[i]);\n",
    "    }\n",
    "    printf(\"\\n\");\n",
    "}"
   ]
  },
  {
   "cell_type": "markdown",
   "id": "6174b0a7",
   "metadata": {
    "slideshow": {
     "slide_type": "skip"
    }
   },
   "source": [
    "## Array Allocation"
   ]
  },
  {
   "cell_type": "code",
   "execution_count": 10,
   "id": "d05f3634",
   "metadata": {
    "slideshow": {
     "slide_type": "slide"
    }
   },
   "outputs": [],
   "source": [
    "int* foo = new int[10];"
   ]
  },
  {
   "cell_type": "code",
   "execution_count": 13,
   "id": "b6d5e444",
   "metadata": {
    "slideshow": {
     "slide_type": "fragment"
    }
   },
   "outputs": [
    {
     "name": "stdout",
     "output_type": "stream",
     "text": [
      "0x401602ad70\n"
     ]
    }
   ],
   "source": [
    "where(*foo)"
   ]
  },
  {
   "cell_type": "code",
   "execution_count": 14,
   "id": "e498ed0b",
   "metadata": {
    "slideshow": {
     "slide_type": "fragment"
    }
   },
   "outputs": [
    {
     "name": "stdout",
     "output_type": "stream",
     "text": [
      "0x401602ad70\n"
     ]
    }
   ],
   "source": [
    "where(foo[0])"
   ]
  },
  {
   "cell_type": "code",
   "execution_count": 15,
   "id": "dd55af61",
   "metadata": {},
   "outputs": [
    {
     "name": "stdout",
     "output_type": "stream",
     "text": [
      "0x401602ad74\n"
     ]
    }
   ],
   "source": [
    "where(foo[1])"
   ]
  },
  {
   "cell_type": "code",
   "execution_count": 16,
   "id": "d80c8c8a",
   "metadata": {},
   "outputs": [
    {
     "name": "stdout",
     "output_type": "stream",
     "text": [
      "0x401602ad78\n"
     ]
    }
   ],
   "source": [
    "where(foo[2])"
   ]
  },
  {
   "cell_type": "markdown",
   "id": "2a53eb6a",
   "metadata": {
    "slideshow": {
     "slide_type": "notes"
    }
   },
   "source": [
    "- `new` array syntax\n",
    "- `[]` on arrays does pointer math"
   ]
  },
  {
   "cell_type": "code",
   "execution_count": 17,
   "id": "ba035538",
   "metadata": {
    "slideshow": {
     "slide_type": "slide"
    }
   },
   "outputs": [
    {
     "name": "stdout",
     "output_type": "stream",
     "text": [
      "0x1203cd6a\n"
     ]
    }
   ],
   "source": [
    "bytes(foo[0])"
   ]
  },
  {
   "cell_type": "code",
   "execution_count": 23,
   "id": "195ff7df",
   "metadata": {
    "slideshow": {
     "slide_type": "fragment"
    }
   },
   "outputs": [
    {
     "name": "stdout",
     "output_type": "stream",
     "text": [
      "0x1203cd6a\n",
      "0x00000040\n",
      "0x00000000\n",
      "0x00000000\n",
      "0x16028490\n",
      "0x00000040\n",
      "0x1602ad40\n",
      "0x00000040\n",
      "0x7e1a8000\n",
      "0x0000ffff\n"
     ]
    }
   ],
   "source": [
    "for (int i = 0; i < 10; i++) {\n",
    "    bytes(foo[i]);\n",
    "}"
   ]
  },
  {
   "cell_type": "markdown",
   "id": "dfec2efd",
   "metadata": {
    "slideshow": {
     "slide_type": "notes"
    }
   },
   "source": [
    "- Calling `new T[n]` gives you space for `n` `T`s, but doesn't create any `T`s yet.\n",
    "- There are bytes there, but they are just weeds growing in the empty lot you just purchased"
   ]
  },
  {
   "cell_type": "code",
   "execution_count": 26,
   "id": "99342fcc",
   "metadata": {
    "slideshow": {
     "slide_type": "slide"
    }
   },
   "outputs": [],
   "source": [
    "for (int i = 0; i < 10; i++) {\n",
    "    foo[i] = i;\n",
    "}"
   ]
  },
  {
   "cell_type": "code",
   "execution_count": 27,
   "id": "f1edfab0",
   "metadata": {
    "slideshow": {
     "slide_type": "fragment"
    }
   },
   "outputs": [
    {
     "name": "stdout",
     "output_type": "stream",
     "text": [
      "0x00000000\n",
      "0x00000001\n",
      "0x00000002\n",
      "0x00000003\n",
      "0x00000004\n",
      "0x00000005\n",
      "0x00000006\n",
      "0x00000007\n",
      "0x00000008\n",
      "0x00000009\n"
     ]
    }
   ],
   "source": [
    "for (int i = 0; i < 10; i++) {\n",
    "    bytes(foo[i]);\n",
    "}"
   ]
  },
  {
   "cell_type": "code",
   "execution_count": 29,
   "id": "90ad71a1",
   "metadata": {
    "slideshow": {
     "slide_type": "slide"
    }
   },
   "outputs": [
    {
     "data": {
      "text/plain": [
       "670248881"
      ]
     },
     "execution_count": 29,
     "metadata": {},
     "output_type": "execute_result"
    }
   ],
   "source": [
    "array[12]"
   ]
  },
  {
   "cell_type": "markdown",
   "id": "86c2dc22",
   "metadata": {
    "slideshow": {
     "slide_type": "notes"
    }
   },
   "source": [
    "- arrays don't protect you from going off the end\n",
    "- It's not: can you get it right? Go for: you can't get it wrong.\n",
    "- So wrap the array in a class -> Vector!"
   ]
  },
  {
   "cell_type": "markdown",
   "id": "afbfb552",
   "metadata": {
    "slideshow": {
     "slide_type": "slide"
    }
   },
   "source": [
    "## Vector"
   ]
  },
  {
   "cell_type": "markdown",
   "id": "8fbeb64c",
   "metadata": {
    "slideshow": {
     "slide_type": "slide"
    }
   },
   "source": [
    "The C++ STL `vector` uses an array to store it's values (instead of linked nodes).\n",
    "\n",
    "### `build_vector.cpp`"
   ]
  },
  {
   "cell_type": "markdown",
   "id": "1339ed50",
   "metadata": {
    "slideshow": {
     "slide_type": "notes"
    }
   },
   "source": [
    "Write and discuss:\n",
    "\n",
    "- Constructor and destructor\n",
    "- `push_back` + `grow`\n",
    "- `pop_back`\n",
    "- `size`\n",
    "- `operator []`\n",
    "\n",
    "Note:\n",
    "- `pop_back` just decrements size. Nothing is done to the memory.\n",
    "- what is the significance of returning by value from `operator[]`?"
   ]
  },
  {
   "cell_type": "markdown",
   "id": "1173f0b7",
   "metadata": {},
   "source": [
    "## Key Ideas\n",
    "- Arrays\n",
    "  - contiguous memory allocation\n",
    "- Vectors"
   ]
  }
 ],
 "metadata": {
  "celltoolbar": "Slideshow",
  "kernelspec": {
   "display_name": "C++17",
   "language": "C++17",
   "name": "xcpp17"
  },
  "language_info": {
   "codemirror_mode": "text/x-c++src",
   "file_extension": ".cpp",
   "mimetype": "text/x-c++src",
   "name": "c++",
   "version": "17"
  },
  "toc": {
   "base_numbering": 1,
   "nav_menu": {},
   "number_sections": false,
   "sideBar": true,
   "skip_h1_title": true,
   "title_cell": "Table of Contents",
   "title_sidebar": "Contents",
   "toc_cell": false,
   "toc_position": {
    "height": "calc(100% - 180px)",
    "left": "10px",
    "top": "150px",
    "width": "353.391px"
   },
   "toc_section_display": true,
   "toc_window_display": true
  }
 },
 "nbformat": 4,
 "nbformat_minor": 5
}
