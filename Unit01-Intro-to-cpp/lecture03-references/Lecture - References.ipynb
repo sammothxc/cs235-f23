{
 "cells": [
  {
   "cell_type": "markdown",
   "id": "cc4143a7",
   "metadata": {
    "slideshow": {
     "slide_type": "slide"
    }
   },
   "source": [
    "# References"
   ]
  },
  {
   "cell_type": "markdown",
   "id": "5b9ea190",
   "metadata": {
    "slideshow": {
     "slide_type": "skip"
    }
   },
   "source": [
    "- Memory model: stack frames\n",
    "- References - pass by reference\n",
    "  - Avoid heavy copy - `heavy_copy.cpp`\n",
    "  - Enable passing as super type - `super_type.cpp`\n",
    "    - Take the opportunity to discuss IO streams and the shell a little more: STDIN, STDOUT, pipe, and redirect\n",
    "  - Allow modification (this one will take extra time to talk through) - `swap.cpp`\n",
    "- Const - `reckless.cpp`\n",
    "- Class: example for each point\n",
    "  - Heavy copy\n",
    "  - Super type\n",
    "  - Modify\n",
    "  - Const\n"
   ]
  },
  {
   "cell_type": "markdown",
   "id": "4b5b8cab",
   "metadata": {
    "slideshow": {
     "slide_type": "slide"
    }
   },
   "source": [
    "## `heavy_copy.cpp`"
   ]
  },
  {
   "cell_type": "markdown",
   "id": "0bf8a8b8",
   "metadata": {},
   "source": [
    "`make heavy && ./heavy really_big_text.txt 100`"
   ]
  },
  {
   "cell_type": "markdown",
   "id": "cd0786a9",
   "metadata": {
    "slideshow": {
     "slide_type": "slide"
    }
   },
   "source": [
    "## `super_type.cpp`"
   ]
  },
  {
   "cell_type": "markdown",
   "id": "5382db21",
   "metadata": {
    "slideshow": {
     "slide_type": "notes"
    }
   },
   "source": [
    "- note how `istream` can except both `cin` and `ifstream`\n",
    "- talk about **abstract base classes**\n",
    "  - you can't instantiate them\n",
    "  - but you can treat different children classes as the same parent type\n",
    "- talk about interfaces\n",
    "  - the `bullets` method doesn't need to know how or where your stream is coming from\n",
    "  - it just needs to know that the thing behaves like an input stream"
   ]
  },
  {
   "cell_type": "markdown",
   "id": "f1adfef8",
   "metadata": {
    "slideshow": {
     "slide_type": "slide"
    }
   },
   "source": [
    "`make super && ./super text.txt`"
   ]
  },
  {
   "cell_type": "markdown",
   "id": "c4a8c79d",
   "metadata": {
    "slideshow": {
     "slide_type": "-"
    }
   },
   "source": [
    "`make super && ./super`"
   ]
  },
  {
   "cell_type": "markdown",
   "id": "193a3a45",
   "metadata": {
    "slideshow": {
     "slide_type": "fragment"
    }
   },
   "source": [
    "`cat text.txt | ./super > bulletted_text.txt`"
   ]
  },
  {
   "cell_type": "markdown",
   "id": "06e1e35a",
   "metadata": {
    "slideshow": {
     "slide_type": "fragment"
    }
   },
   "source": [
    "`cat text.txt | ./super | ./super | ./super`"
   ]
  },
  {
   "cell_type": "markdown",
   "id": "5ee35f00",
   "metadata": {
    "slideshow": {
     "slide_type": "notes"
    }
   },
   "source": [
    "- See how it echos with bullets line-by-line.\n",
    "- Use <kbd>ctrl</kbd> + <kbd>D</kbd> to close the input stream.\n",
    "- Demonstrate how to use the shell pipe `|` to pass data to `./super` via STDIN\n",
    "  - show `echo`, `cat`, and `head`\n",
    "  - `cat text.txt | ./super`\n",
    "- Demonstrate how to use the STDOUT redirect `>` to pass STDOUT to a file\n",
    "  - `cat text.txt | ./super > bulletted_text.txt`"
   ]
  },
  {
   "cell_type": "markdown",
   "id": "fc7a35fa",
   "metadata": {
    "slideshow": {
     "slide_type": "slide"
    }
   },
   "source": [
    "## `swap.cpp`"
   ]
  },
  {
   "cell_type": "markdown",
   "id": "4fc178ee",
   "metadata": {
    "slideshow": {
     "slide_type": "notes"
    }
   },
   "source": [
    "- new syntax: `&`\n",
    "- `where.h` contains a macro `WHERE` that prints the memory address of a variable\n",
    "- explain: no new memory is allocated for `&first` and `&second`\n",
    "  - rather, the variable names `first` and `second` are used to reference the same memory address as `a` and `b`\n",
    "  - see the addresses `WHERE` prints\n",
    "- remove the `&` from the method signature\n",
    "  - see how the addresses change - we are now swapping different memory and the original memory stays unchanged\n",
    "  \n",
    "`make swap && ./swap 7 8`"
   ]
  },
  {
   "cell_type": "markdown",
   "id": "367f28f6",
   "metadata": {
    "slideshow": {
     "slide_type": "slide"
    }
   },
   "source": [
    "## 👷🏾‍♂️ `get_file_contents`\n",
    "\n",
    "Modify the `get_file_contents` method from `heavy_copy.cpp` to have the signature \n",
    "```c++\n",
    "void get_file_contents(string filename, string &contents);\n",
    "```\n",
    "\n",
    "similar to the `getline(istream&, string&)` method."
   ]
  },
  {
   "cell_type": "markdown",
   "id": "6c5ba7b8",
   "metadata": {
    "slideshow": {
     "slide_type": "fragment"
    }
   },
   "source": [
    "How does this code change affect the number of times the file contents are copied?"
   ]
  },
  {
   "cell_type": "markdown",
   "id": "1f3f2cce",
   "metadata": {
    "slideshow": {
     "slide_type": "slide"
    }
   },
   "source": [
    "## `reckless.cpp`"
   ]
  },
  {
   "cell_type": "markdown",
   "id": "418ce3b2",
   "metadata": {
    "slideshow": {
     "slide_type": "notes"
    }
   },
   "source": [
    "- the `const_demo_framing.cpp`, `const_demo_telling.cpp`, and `const_demo_punchline.cpp` sequence outline the sequence of changes to make this point\n",
    "- `make reckless && ./reckless 4 'this is some text'`\n",
    "- now irresponsibly add something like the following to the method `reckless_with_your_data`\n",
    "  ```c++\n",
    "  number = 2;\n",
    "  phrase = \"You keep saying those words. I do not think they are what you think they are.\";\n",
    "  ```\n",
    "- `make reckless && ./reckless 4 'this is some text'`\n",
    "  - `reckless_with_your_data` changed the values!\n",
    "- add the `const` qualifier in the method signature -> notice the compiler error\n",
    "- moral: `const` keeps functions from changes the values of our references"
   ]
  },
  {
   "cell_type": "markdown",
   "id": "b51e534a",
   "metadata": {
    "slideshow": {
     "slide_type": "notes"
    }
   },
   "source": [
    "#### `const_demo_framing.cpp`\n",
    "\n",
    "#### `const_demo_telling.cpp`\n",
    "\n",
    "#### `const_demo_punchline.cpp`"
   ]
  },
  {
   "cell_type": "markdown",
   "id": "52b18925",
   "metadata": {
    "slideshow": {
     "slide_type": "slide"
    }
   },
   "source": [
    "## Key Ideas\n",
    "- Passing data *by reference* using the `&` modifier allows multiple functions to operate on the same memory location\n",
    "  - Avoids unnecessary data copies\n",
    "  - Delegates the modification of data to another function\n",
    "  - Allows subtype objects to be passed as supertypes"
   ]
  }
 ],
 "metadata": {
  "celltoolbar": "Slideshow",
  "kernelspec": {
   "display_name": "C++17",
   "language": "C++17",
   "name": "xcpp17"
  },
  "language_info": {
   "codemirror_mode": "text/x-c++src",
   "file_extension": ".cpp",
   "mimetype": "text/x-c++src",
   "name": "c++",
   "version": "17"
  },
  "toc": {
   "base_numbering": 1,
   "nav_menu": {},
   "number_sections": false,
   "sideBar": true,
   "skip_h1_title": true,
   "title_cell": "Table of Contents",
   "title_sidebar": "Contents",
   "toc_cell": false,
   "toc_position": {
    "height": "calc(100% - 180px)",
    "left": "10px",
    "top": "150px",
    "width": "384px"
   },
   "toc_section_display": true,
   "toc_window_display": true
  }
 },
 "nbformat": 4,
 "nbformat_minor": 5
}
